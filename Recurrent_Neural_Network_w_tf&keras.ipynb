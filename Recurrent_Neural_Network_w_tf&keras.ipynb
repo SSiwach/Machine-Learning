{
  "nbformat": 4,
  "nbformat_minor": 0,
  "metadata": {
    "colab": {
      "name": "Recurrent_Neural_Network_w_tf&keras.ipynb",
      "provenance": []
    },
    "kernelspec": {
      "name": "python3",
      "display_name": "Python 3"
    },
    "language_info": {
      "name": "python"
    }
  },
  "cells": [
    {
      "cell_type": "code",
      "execution_count": 9,
      "metadata": {
        "colab": {
          "base_uri": "https://localhost:8080/"
        },
        "id": "i020ZiKZmzo_",
        "outputId": "f22cd6fc-7ec2-42c2-b1c3-600c09a8be3f"
      },
      "outputs": [
        {
          "output_type": "stream",
          "name": "stdout",
          "text": [
            "(60000, 28, 28)\n",
            "Epoch 1/3\n",
            "1875/1875 [==============================] - 79s 41ms/step - loss: 0.7336 - accuracy: 0.7554 - val_loss: 0.1500 - val_accuracy: 0.9539\n",
            "Epoch 2/3\n",
            "1875/1875 [==============================] - 78s 42ms/step - loss: 0.1893 - accuracy: 0.9491 - val_loss: 0.0972 - val_accuracy: 0.9693\n",
            "Epoch 3/3\n",
            "1875/1875 [==============================] - 78s 42ms/step - loss: 0.1163 - accuracy: 0.9689 - val_loss: 0.0800 - val_accuracy: 0.9777\n"
          ]
        },
        {
          "output_type": "execute_result",
          "data": {
            "text/plain": [
              "<keras.callbacks.History at 0x7f2ac3e7f250>"
            ]
          },
          "metadata": {},
          "execution_count": 9
        }
      ],
      "source": [
        "import tensorflow as tf\n",
        "\n",
        "from tensorflow.keras.models import Sequential\n",
        "\n",
        "from tensorflow.keras.layers import Dense, Dropout, LSTM\n",
        "\n",
        "mnist = tf.keras.datasets.mnist\n",
        "\n",
        "(x_train, y_train),(x_test, y_test) = mnist.load_data()\n",
        "x_train = x_train/255.0\n",
        "x_test = x_test/255.0\n",
        "print(x_train.shape)\n",
        "\n",
        "\n",
        "\n",
        "\n",
        "\n",
        "\n",
        "\n",
        "model = Sequential()\n",
        "\n",
        "model.add(LSTM(128, input_shape=(x_train.shape[1:]), activation = 'relu', return_sequences= True))\n",
        "\n",
        "\n",
        "model.add(Dropout(0.2))\n",
        "\n",
        "model.add(LSTM(128, activation = 'relu'))\n",
        "\n",
        "model.add(Dropout(0.2))\n",
        "\n",
        "model.add(Dense(32, activation = 'relu'))\n",
        "\n",
        "model.add(Dropout(0.2))\n",
        "\n",
        "model.add(Dense(10, activation = 'softmax'))\n",
        "\n",
        "opt = tf.keras.optimizers.Adam(lr = 1e-3, decay = 1e-5)\n",
        "\n",
        "model.compile(loss = 'sparse_categorical_crossentropy', optimizer = opt, metrics = ['accuracy'])\n",
        "\n",
        "\n",
        "model.fit(x_train, y_train, epochs = 3, validation_data = (x_test, y_test))\n",
        "\n"
      ]
    },
    {
      "cell_type": "code",
      "source": [
        "print(x_train[0].shape)"
      ],
      "metadata": {
        "colab": {
          "base_uri": "https://localhost:8080/"
        },
        "id": "QWMc5XxwnUgG",
        "outputId": "c87e017f-e456-4e60-cb35-e9f45954a9cd"
      },
      "execution_count": 4,
      "outputs": [
        {
          "output_type": "stream",
          "name": "stdout",
          "text": [
            "(28, 28)\n"
          ]
        }
      ]
    },
    {
      "cell_type": "code",
      "source": [
        "\n",
        "\n",
        "\n",
        "\n",
        "\n",
        "model = Sequential()\n",
        "\n",
        "model.add(LSTM(128, input_shape=(x_train.shape[1:]), activation = 'relu', return_sequences= True))\n",
        "\n",
        "\n",
        "model.add(Dropout(0.2))\n",
        "\n",
        "model.add(LSTM(128, activation = 'relu'))\n",
        "\n",
        "model.add(Dropout(0.2))\n",
        "\n",
        "model.add(Dense(32, activation = 'relu'))\n",
        "\n",
        "model.add(Dropout(0.2))\n",
        "\n",
        "model.add(Dense(10, activation = 'softmax'))\n",
        "\n",
        "opt = tf.keras.optimizers.Adam(lr = 1e-3, decay = 1e-5)\n",
        "\n",
        "model.compile(loss = 'sparse_categorical_crossentropy', optimizer = opt, metrics = ['accuracy'])\n",
        "\n",
        "\n",
        "model.fit(x_train, y_train, epochs = 3, validation_data = (x_test, y_test))\n",
        "\n"
      ],
      "metadata": {
        "colab": {
          "base_uri": "https://localhost:8080/"
        },
        "id": "4AJHIYCknbOU",
        "outputId": "c0a40d06-47aa-4feb-cea4-900ee955944c"
      },
      "execution_count": 10,
      "outputs": [
        {
          "output_type": "stream",
          "name": "stdout",
          "text": [
            "Epoch 1/3\n",
            "1875/1875 [==============================] - 133s 42ms/step - loss: 0.6488 - accuracy: 0.7889 - val_loss: 0.1451 - val_accuracy: 0.9561\n",
            "Epoch 2/3\n",
            "1875/1875 [==============================] - 79s 42ms/step - loss: 0.1661 - accuracy: 0.9571 - val_loss: 0.1057 - val_accuracy: 0.9690\n",
            "Epoch 3/3\n",
            "1875/1875 [==============================] - 79s 42ms/step - loss: 0.1117 - accuracy: 0.9711 - val_loss: 0.0675 - val_accuracy: 0.9799\n"
          ]
        },
        {
          "output_type": "execute_result",
          "data": {
            "text/plain": [
              "<keras.callbacks.History at 0x7f2ac3db6cd0>"
            ]
          },
          "metadata": {},
          "execution_count": 10
        }
      ]
    },
    {
      "cell_type": "code",
      "source": [],
      "metadata": {
        "id": "Q14ouV0FoCF4"
      },
      "execution_count": null,
      "outputs": []
    }
  ]
}